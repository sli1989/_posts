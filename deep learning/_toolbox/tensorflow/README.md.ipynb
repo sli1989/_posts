{
 "cells": [
  {
   "cell_type": "markdown",
   "metadata": {},
   "source": [
    "## question\n",
    "- TensorFlow lets us describe a graph of interacting operations that run entirely outside Python. 避免语言之间切换的cost. What about theano? 意思是所有的graph计算都在gpu中实现？theano中呢\n",
    "\n",
    "- CPU 存取显卡内存时只能透过 PCI Express 接口，因此速度较慢（PCI Express x16 的理论带宽是双向各 4GB/s），因此不能经常进行这类动作，以免降低效率。 \n",
    "\n",
    "## 三种tensor\n",
    "\n",
    "### tf.constant, tf.Variable , tf.placeholder \n"
   ]
  },
  {
   "cell_type": "code",
   "execution_count": 7,
   "metadata": {
    "collapsed": false,
    "scrolled": true
   },
   "outputs": [
    {
     "name": "stdout",
     "output_type": "stream",
     "text": [
      "Tensor(\"Const_5:0\", shape=(), dtype=int32)\n",
      "<tensorflow.python.ops.variables.Variable object at 0x7f3c9d4dda50>\n",
      "Tensor(\"Placeholder_5:0\", dtype=int16)\n",
      "<class 'tensorflow.python.framework.ops.Tensor'>\n",
      "<class 'tensorflow.python.ops.variables.Variable'>\n",
      "<class 'tensorflow.python.framework.ops.Tensor'>\n"
     ]
    }
   ],
   "source": [
    "import tensorflow as tf\n",
    "\n",
    "a = tf.constant(0)  #\n",
    "b = tf.Variable(tf.zeros([784,10])) # tensorflow/python/ops/variables.py\n",
    "c = tf.placeholder(tf.int16)  # tensorflow/python/ops/array_ops.py\n",
    "print a\n",
    "print b\n",
    "print c\n",
    "print type(a)\n",
    "print type(b)\n",
    "print type(c)"
   ]
  },
  {
   "cell_type": "markdown",
   "metadata": {
    "collapsed": true
   },
   "source": [
    "tensor一般以常量或变量的形式存储. TensorFlow 还提供了 feed 机制, 该机制 可以\n",
    "临时替代图中的任意操作中的 tensor 可以对图中任何操作提交补丁, 直接插入一个 tensor.\n",
    "\n",
    "tf.constant: immutable tensor\n",
    "tf.variable: mutable tensor\n",
    "tf.placeholder: immutable tensor\n",
    "\n",
    "\n",
    "- A Variable is a special kind of operation that returns a handle to a persistent mutable tensor that survives across executions of a graph. variable和constant的实现，都是要创建一个operation，然后把operation加入到default_graph中。所以这里说variable也是operation. placeholder在多次执行graph中，被替换了, variable被保留了。\n",
    "-  Variables are inmemory buffers containing tensors. \n",
    "- The Variable() constructor requires an initial value for the variable. The initial value defines the type and shape of the variable. After construction, the type and shape of the variable are fixed. The value can be changed using one of the assign methods.\n",
    "\n",
    "- variable需要通过tf.initialize_all_variables()初始化，初始化后类型和size都是固定的. tensor不需要初始化，size也可以运行时确定\n",
    "- placeholder是运行时才赋值的tensor，而zeros、constant是在运行前就声明了数值的tensor\n",
    "\n",
    "- 为什么要区分placeholder和variable？input_data和param\n",
    "因为需要利用optimizer自动求导，求导的时候需要区分哪个是自变量，哪个是data。所以分别利用placeholder表示data，variable表示自变量\n",
    "\n",
    "- optimizer会对variable进行求导，并update。但是不会对placeholder进行更新\n",
    "- The difference is that with tf.Variable you have to provide an initial value when you declare it. With tf.placeholder you don't have to provide an initial value and you can specify it at run time with the feed_dict argument inside Session.run\n",
    "\n"
   ]
  },
  {
   "cell_type": "markdown",
   "metadata": {
    "collapsed": true
   },
   "source": [
    "## operation:\n",
    "theano.tensor.dot(x,y)\n",
    "theano.grad(y,x)  自动求梯度\n",
    "\n",
    "theano.function() 返回值  <class 'theano.compile.function_module.Function'>\n",
    "theano.scan\n"
   ]
  },
  {
   "cell_type": "markdown",
   "metadata": {},
   "source": [
    "## graph\n",
    "\n",
    "A Graph contains:\n",
    "- Operation objects, which represent units of computation; \n",
    "- Tensor objects, which represent the units of data that flow between operations.\n",
    "\n",
    "- theano_graph: variable_nodes, op_nodes, apply_nodes, type_nodes\n",
    "- tensorfloaw_graph:\n",
    "\n",
    "default\n",
    "\n"
   ]
  },
  {
   "cell_type": "markdown",
   "metadata": {},
   "source": [
    "## theano VS tensorflow\n",
    "### variable/param:\n",
    "\n",
    "all tensor 返回值 \n",
    "x=theano.tensor.scalar()  0-order tensor\n",
    "x=theano.tensor.vector()  1-order tensor\n",
    "x=theano.tensor.matrix()  2-order tensor\n",
    "x=theano.tensor.tensor3()\n",
    "...\n",
    "type(x)  <class 'theano.tensor.var.TensorVariable'>\n",
    "Theano knows what type of variable x is because x.type points back to T.fmatrix.\n",
    "\n",
    "\n",
    "theano.shared(0) <class 'theano.tensor.sharedvar.ScalarSharedVariable'>\n",
    "\n",
    "tf.zeros()       <class 'tensorflow.python.framework.ops.Tensor'>  A Tensor with all elements set to 0\n",
    "tf.ones() A Tensor with all elements set to zero\n",
    "tf.constant()    <class 'tensorflow.python.framework.ops.Tensor'>\n",
    "tf.placeholder() <class 'tensorflow.python.framework.ops.Tensor'>\n",
    "tf.Variable()    <class 'tensorflow.python.ops.variables.Variable'>\n",
    "\n",
    "theano中不区分input data和variable\n",
    "\n",
    "### input_data:\n",
    "\n",
    "tensorflow.placeholder(tf.float32, [None, 784])\n",
    "<class 'tensorflow.python.framework.ops.Tensor'>"
   ]
  },
  {
   "cell_type": "code",
   "execution_count": null,
   "metadata": {
    "collapsed": false
   },
   "outputs": [],
   "source": []
  },
  {
   "cell_type": "markdown",
   "metadata": {
    "collapsed": true
   },
   "source": [
    "## Resources\n",
    "* https://github.com/nlintz/TensorFlow-Tutorials\n",
    "* Creative Applications of Deep Learning with TensorFlow  https://www.kadenze.com/courses/creative-applications-of-deep-learning-with-tensorflow-iv/info\n",
    "* [Official Tensorflow Tutorials](https://www.tensorflow.org/versions/r0.7/tutorials/index.html)\n",
    "* [Tensorflow API](https://www.tensorflow.org/versions/r0.7/api_docs/python/index.html)\n",
    "* [Tensorflow Google Groups](https://groups.google.com/a/tensorflow.org/forum/#!forum/discuss)\n",
    "  * [More Tutorials](https://github.com/nlintz/TensorFlow-Tutorials)"
   ]
  },
  {
   "cell_type": "code",
   "execution_count": null,
   "metadata": {
    "collapsed": true
   },
   "outputs": [],
   "source": []
  }
 ],
 "metadata": {
  "anaconda-cloud": {},
  "kernelspec": {
   "display_name": "Python 2",
   "language": "python",
   "name": "python2"
  },
  "language_info": {
   "codemirror_mode": {
    "name": "ipython",
    "version": 2
   },
   "file_extension": ".py",
   "mimetype": "text/x-python",
   "name": "python",
   "nbconvert_exporter": "python",
   "pygments_lexer": "ipython2",
   "version": "2.7.12"
  }
 },
 "nbformat": 4,
 "nbformat_minor": 0
}
